{
 "cells": [
  {
   "cell_type": "markdown",
   "metadata": {},
   "source": [
    "# Analisi della distribuzione della popolazione residente in Italia\n",
    "\n",
    "Usiamo i dati dell'ISTAT per costruire la distribuzione dell'età della popolazione italiana.\n",
    "\n",
    "I dati vanno scaricati dalla [pagina dell'ISTAT](http://dati.istat.it/Index.aspx?DataSetCode=DCIS_POPRES1) con l'opzione \"Esporta > Formato di testo (CSV)\"."
   ]
  },
  {
   "cell_type": "code",
   "execution_count": 1,
   "metadata": {},
   "outputs": [],
   "source": [
    "import pandas as pd\n",
    "import matplotlib.pyplot as plt\n",
    "import numpy as np"
   ]
  },
  {
   "cell_type": "code",
   "execution_count": 2,
   "metadata": {},
   "outputs": [],
   "source": [
    "df = pd.read_csv('data/DCIS_POPRES1_19012021083339190.csv')"
   ]
  },
  {
   "cell_type": "markdown",
   "metadata": {},
   "source": [
    "Notare che la codifica dell'età è fatta con una stringa. Questo tipo di codifica è abbastanza comune nei dati che si trovano in rete. La stringa va innanzitutto convertita in un valore numerico che può essere utilizzato."
   ]
  },
  {
   "cell_type": "code",
   "execution_count": 3,
   "metadata": {
    "scrolled": false
   },
   "outputs": [
    {
     "data": {
      "text/html": [
       "<div>\n",
       "<style scoped>\n",
       "    .dataframe tbody tr th:only-of-type {\n",
       "        vertical-align: middle;\n",
       "    }\n",
       "\n",
       "    .dataframe tbody tr th {\n",
       "        vertical-align: top;\n",
       "    }\n",
       "\n",
       "    .dataframe thead th {\n",
       "        text-align: right;\n",
       "    }\n",
       "</style>\n",
       "<table border=\"1\" class=\"dataframe\">\n",
       "  <thead>\n",
       "    <tr style=\"text-align: right;\">\n",
       "      <th></th>\n",
       "      <th>ITTER107</th>\n",
       "      <th>Territorio</th>\n",
       "      <th>TIPO_DATO15</th>\n",
       "      <th>Tipo di indicatore demografico</th>\n",
       "      <th>SEXISTAT1</th>\n",
       "      <th>Sesso</th>\n",
       "      <th>ETA1</th>\n",
       "      <th>Età</th>\n",
       "      <th>STATCIV2</th>\n",
       "      <th>Stato civile</th>\n",
       "      <th>TIME</th>\n",
       "      <th>Seleziona periodo</th>\n",
       "      <th>Value</th>\n",
       "      <th>Flag Codes</th>\n",
       "      <th>Flags</th>\n",
       "    </tr>\n",
       "  </thead>\n",
       "  <tbody>\n",
       "    <tr>\n",
       "      <th>0</th>\n",
       "      <td>IT</td>\n",
       "      <td>Italia</td>\n",
       "      <td>JAN</td>\n",
       "      <td>popolazione al 1º gennaio</td>\n",
       "      <td>1</td>\n",
       "      <td>maschi</td>\n",
       "      <td>Y0</td>\n",
       "      <td>0 anni</td>\n",
       "      <td>1</td>\n",
       "      <td>nubile/celibe</td>\n",
       "      <td>2020</td>\n",
       "      <td>2020</td>\n",
       "      <td>212756</td>\n",
       "      <td>NaN</td>\n",
       "      <td>NaN</td>\n",
       "    </tr>\n",
       "    <tr>\n",
       "      <th>1</th>\n",
       "      <td>IT</td>\n",
       "      <td>Italia</td>\n",
       "      <td>JAN</td>\n",
       "      <td>popolazione al 1º gennaio</td>\n",
       "      <td>1</td>\n",
       "      <td>maschi</td>\n",
       "      <td>Y0</td>\n",
       "      <td>0 anni</td>\n",
       "      <td>99</td>\n",
       "      <td>totale</td>\n",
       "      <td>2020</td>\n",
       "      <td>2020</td>\n",
       "      <td>212756</td>\n",
       "      <td>NaN</td>\n",
       "      <td>NaN</td>\n",
       "    </tr>\n",
       "    <tr>\n",
       "      <th>2</th>\n",
       "      <td>IT</td>\n",
       "      <td>Italia</td>\n",
       "      <td>JAN</td>\n",
       "      <td>popolazione al 1º gennaio</td>\n",
       "      <td>2</td>\n",
       "      <td>femmine</td>\n",
       "      <td>Y0</td>\n",
       "      <td>0 anni</td>\n",
       "      <td>1</td>\n",
       "      <td>nubile/celibe</td>\n",
       "      <td>2020</td>\n",
       "      <td>2020</td>\n",
       "      <td>202218</td>\n",
       "      <td>NaN</td>\n",
       "      <td>NaN</td>\n",
       "    </tr>\n",
       "    <tr>\n",
       "      <th>3</th>\n",
       "      <td>IT</td>\n",
       "      <td>Italia</td>\n",
       "      <td>JAN</td>\n",
       "      <td>popolazione al 1º gennaio</td>\n",
       "      <td>2</td>\n",
       "      <td>femmine</td>\n",
       "      <td>Y0</td>\n",
       "      <td>0 anni</td>\n",
       "      <td>99</td>\n",
       "      <td>totale</td>\n",
       "      <td>2020</td>\n",
       "      <td>2020</td>\n",
       "      <td>202218</td>\n",
       "      <td>NaN</td>\n",
       "      <td>NaN</td>\n",
       "    </tr>\n",
       "    <tr>\n",
       "      <th>4</th>\n",
       "      <td>IT</td>\n",
       "      <td>Italia</td>\n",
       "      <td>JAN</td>\n",
       "      <td>popolazione al 1º gennaio</td>\n",
       "      <td>9</td>\n",
       "      <td>totale</td>\n",
       "      <td>Y0</td>\n",
       "      <td>0 anni</td>\n",
       "      <td>1</td>\n",
       "      <td>nubile/celibe</td>\n",
       "      <td>2020</td>\n",
       "      <td>2020</td>\n",
       "      <td>414974</td>\n",
       "      <td>NaN</td>\n",
       "      <td>NaN</td>\n",
       "    </tr>\n",
       "    <tr>\n",
       "      <th>...</th>\n",
       "      <td>...</td>\n",
       "      <td>...</td>\n",
       "      <td>...</td>\n",
       "      <td>...</td>\n",
       "      <td>...</td>\n",
       "      <td>...</td>\n",
       "      <td>...</td>\n",
       "      <td>...</td>\n",
       "      <td>...</td>\n",
       "      <td>...</td>\n",
       "      <td>...</td>\n",
       "      <td>...</td>\n",
       "      <td>...</td>\n",
       "      <td>...</td>\n",
       "      <td>...</td>\n",
       "    </tr>\n",
       "    <tr>\n",
       "      <th>289165</th>\n",
       "      <td>ITG28</td>\n",
       "      <td>Oristano</td>\n",
       "      <td>JAN</td>\n",
       "      <td>popolazione al 1º gennaio</td>\n",
       "      <td>9</td>\n",
       "      <td>totale</td>\n",
       "      <td>Y_GE100</td>\n",
       "      <td>100 anni e più</td>\n",
       "      <td>16</td>\n",
       "      <td>già in unione civile (per decesso del partner)</td>\n",
       "      <td>2020</td>\n",
       "      <td>2020</td>\n",
       "      <td>0</td>\n",
       "      <td>NaN</td>\n",
       "      <td>NaN</td>\n",
       "    </tr>\n",
       "    <tr>\n",
       "      <th>289166</th>\n",
       "      <td>ITG28</td>\n",
       "      <td>Oristano</td>\n",
       "      <td>JAN</td>\n",
       "      <td>popolazione al 1º gennaio</td>\n",
       "      <td>9</td>\n",
       "      <td>totale</td>\n",
       "      <td>Y_GE100</td>\n",
       "      <td>100 anni e più</td>\n",
       "      <td>17</td>\n",
       "      <td>già in unione civile (per scioglimento unione)</td>\n",
       "      <td>2020</td>\n",
       "      <td>2020</td>\n",
       "      <td>0</td>\n",
       "      <td>NaN</td>\n",
       "      <td>NaN</td>\n",
       "    </tr>\n",
       "    <tr>\n",
       "      <th>289167</th>\n",
       "      <td>ITG28</td>\n",
       "      <td>Oristano</td>\n",
       "      <td>JAN</td>\n",
       "      <td>popolazione al 1º gennaio</td>\n",
       "      <td>9</td>\n",
       "      <td>totale</td>\n",
       "      <td>TOTAL</td>\n",
       "      <td>totale</td>\n",
       "      <td>15</td>\n",
       "      <td>unito/a civilmente</td>\n",
       "      <td>2020</td>\n",
       "      <td>2020</td>\n",
       "      <td>9</td>\n",
       "      <td>NaN</td>\n",
       "      <td>NaN</td>\n",
       "    </tr>\n",
       "    <tr>\n",
       "      <th>289168</th>\n",
       "      <td>ITG28</td>\n",
       "      <td>Oristano</td>\n",
       "      <td>JAN</td>\n",
       "      <td>popolazione al 1º gennaio</td>\n",
       "      <td>9</td>\n",
       "      <td>totale</td>\n",
       "      <td>TOTAL</td>\n",
       "      <td>totale</td>\n",
       "      <td>16</td>\n",
       "      <td>già in unione civile (per decesso del partner)</td>\n",
       "      <td>2020</td>\n",
       "      <td>2020</td>\n",
       "      <td>0</td>\n",
       "      <td>NaN</td>\n",
       "      <td>NaN</td>\n",
       "    </tr>\n",
       "    <tr>\n",
       "      <th>289169</th>\n",
       "      <td>ITG28</td>\n",
       "      <td>Oristano</td>\n",
       "      <td>JAN</td>\n",
       "      <td>popolazione al 1º gennaio</td>\n",
       "      <td>9</td>\n",
       "      <td>totale</td>\n",
       "      <td>TOTAL</td>\n",
       "      <td>totale</td>\n",
       "      <td>17</td>\n",
       "      <td>già in unione civile (per scioglimento unione)</td>\n",
       "      <td>2020</td>\n",
       "      <td>2020</td>\n",
       "      <td>1</td>\n",
       "      <td>NaN</td>\n",
       "      <td>NaN</td>\n",
       "    </tr>\n",
       "  </tbody>\n",
       "</table>\n",
       "<p>289170 rows × 15 columns</p>\n",
       "</div>"
      ],
      "text/plain": [
       "       ITTER107 Territorio TIPO_DATO15 Tipo di indicatore demografico  \\\n",
       "0            IT     Italia         JAN      popolazione al 1º gennaio   \n",
       "1            IT     Italia         JAN      popolazione al 1º gennaio   \n",
       "2            IT     Italia         JAN      popolazione al 1º gennaio   \n",
       "3            IT     Italia         JAN      popolazione al 1º gennaio   \n",
       "4            IT     Italia         JAN      popolazione al 1º gennaio   \n",
       "...         ...        ...         ...                            ...   \n",
       "289165    ITG28   Oristano         JAN      popolazione al 1º gennaio   \n",
       "289166    ITG28   Oristano         JAN      popolazione al 1º gennaio   \n",
       "289167    ITG28   Oristano         JAN      popolazione al 1º gennaio   \n",
       "289168    ITG28   Oristano         JAN      popolazione al 1º gennaio   \n",
       "289169    ITG28   Oristano         JAN      popolazione al 1º gennaio   \n",
       "\n",
       "        SEXISTAT1    Sesso     ETA1             Età  STATCIV2  \\\n",
       "0               1   maschi       Y0          0 anni         1   \n",
       "1               1   maschi       Y0          0 anni        99   \n",
       "2               2  femmine       Y0          0 anni         1   \n",
       "3               2  femmine       Y0          0 anni        99   \n",
       "4               9   totale       Y0          0 anni         1   \n",
       "...           ...      ...      ...             ...       ...   \n",
       "289165          9   totale  Y_GE100  100 anni e più        16   \n",
       "289166          9   totale  Y_GE100  100 anni e più        17   \n",
       "289167          9   totale    TOTAL          totale        15   \n",
       "289168          9   totale    TOTAL          totale        16   \n",
       "289169          9   totale    TOTAL          totale        17   \n",
       "\n",
       "                                           Stato civile  TIME  \\\n",
       "0                                         nubile/celibe  2020   \n",
       "1                                                totale  2020   \n",
       "2                                         nubile/celibe  2020   \n",
       "3                                                totale  2020   \n",
       "4                                         nubile/celibe  2020   \n",
       "...                                                 ...   ...   \n",
       "289165  già in unione civile (per decesso del partner)   2020   \n",
       "289166   già in unione civile (per scioglimento unione)  2020   \n",
       "289167                              unito/a civilmente   2020   \n",
       "289168  già in unione civile (per decesso del partner)   2020   \n",
       "289169   già in unione civile (per scioglimento unione)  2020   \n",
       "\n",
       "        Seleziona periodo   Value  Flag Codes  Flags  \n",
       "0                    2020  212756         NaN    NaN  \n",
       "1                    2020  212756         NaN    NaN  \n",
       "2                    2020  202218         NaN    NaN  \n",
       "3                    2020  202218         NaN    NaN  \n",
       "4                    2020  414974         NaN    NaN  \n",
       "...                   ...     ...         ...    ...  \n",
       "289165               2020       0         NaN    NaN  \n",
       "289166               2020       0         NaN    NaN  \n",
       "289167               2020       9         NaN    NaN  \n",
       "289168               2020       0         NaN    NaN  \n",
       "289169               2020       1         NaN    NaN  \n",
       "\n",
       "[289170 rows x 15 columns]"
      ]
     },
     "execution_count": 3,
     "metadata": {},
     "output_type": "execute_result"
    }
   ],
   "source": [
    "df"
   ]
  },
  {
   "cell_type": "code",
   "execution_count": 4,
   "metadata": {},
   "outputs": [
    {
     "data": {
      "text/plain": [
       "array(['Y0', 'Y1', 'Y2', 'Y3', 'Y4', 'Y5', 'Y6', 'Y7', 'Y8', 'Y9', 'Y10',\n",
       "       'Y11', 'Y12', 'Y13', 'Y14', 'Y15', 'Y16', 'Y17', 'Y18', 'Y19',\n",
       "       'Y20', 'Y21', 'Y22', 'Y23', 'Y24', 'Y25', 'Y26', 'Y27', 'Y28',\n",
       "       'Y29', 'Y30', 'Y31', 'Y32', 'Y33', 'Y34', 'Y35', 'Y36', 'Y37',\n",
       "       'Y38', 'Y39', 'Y40', 'Y41', 'Y42', 'Y43', 'Y44', 'Y45', 'Y46',\n",
       "       'Y47', 'Y48', 'Y49', 'Y50', 'Y51', 'Y52', 'Y53', 'Y54', 'Y55',\n",
       "       'Y56', 'Y57', 'Y58', 'Y59', 'Y60', 'Y61', 'Y62', 'Y63', 'Y64',\n",
       "       'Y65', 'Y66', 'Y67', 'Y68', 'Y69', 'Y70', 'Y71', 'Y72', 'Y73',\n",
       "       'Y74', 'Y75', 'Y76', 'Y77', 'Y78', 'Y79', 'Y80', 'Y81', 'Y82',\n",
       "       'Y83', 'Y84', 'Y85', 'Y86', 'Y87', 'Y88', 'Y89', 'Y90', 'Y91',\n",
       "       'Y92', 'Y93', 'Y94', 'Y95', 'Y96', 'Y97', 'Y98', 'Y99', 'Y_GE100',\n",
       "       'TOTAL'], dtype=object)"
      ]
     },
     "execution_count": 4,
     "metadata": {},
     "output_type": "execute_result"
    }
   ],
   "source": [
    "df.ETA1.unique()"
   ]
  },
  {
   "cell_type": "markdown",
   "metadata": {},
   "source": [
    "I dati sono organizzati per aree territoriali. Quindi è possibile avere distribuzioni per aree geografiche."
   ]
  },
  {
   "cell_type": "code",
   "execution_count": 5,
   "metadata": {},
   "outputs": [
    {
     "data": {
      "text/plain": [
       "['Abruzzo',\n",
       " 'Agrigento',\n",
       " 'Alessandria',\n",
       " 'Ancona',\n",
       " 'Arezzo',\n",
       " 'Ascoli Piceno',\n",
       " 'Asti',\n",
       " 'Avellino',\n",
       " 'Bari',\n",
       " 'Barletta-Andria-Trani',\n",
       " 'Basilicata',\n",
       " 'Belluno',\n",
       " 'Benevento',\n",
       " 'Bergamo',\n",
       " 'Biella',\n",
       " 'Bologna',\n",
       " 'Bolzano / Bozen',\n",
       " 'Brescia',\n",
       " 'Brindisi',\n",
       " 'Cagliari',\n",
       " 'Calabria',\n",
       " 'Caltanissetta',\n",
       " 'Campania',\n",
       " 'Campobasso',\n",
       " 'Caserta',\n",
       " 'Catania',\n",
       " 'Catanzaro',\n",
       " 'Centro',\n",
       " 'Chieti',\n",
       " 'Como',\n",
       " 'Cosenza',\n",
       " 'Cremona',\n",
       " 'Crotone',\n",
       " 'Cuneo',\n",
       " 'Emilia-Romagna',\n",
       " 'Enna',\n",
       " 'Fermo',\n",
       " 'Ferrara',\n",
       " 'Firenze',\n",
       " 'Foggia',\n",
       " 'Forlì-Cesena',\n",
       " 'Friuli-Venezia Giulia',\n",
       " 'Frosinone',\n",
       " 'Genova',\n",
       " 'Gorizia',\n",
       " 'Grosseto',\n",
       " 'Imperia',\n",
       " 'Isernia',\n",
       " 'Isole',\n",
       " 'Italia',\n",
       " \"L'Aquila\",\n",
       " 'La Spezia',\n",
       " 'Latina',\n",
       " 'Lazio',\n",
       " 'Lecce',\n",
       " 'Lecco',\n",
       " 'Liguria',\n",
       " 'Livorno',\n",
       " 'Lodi',\n",
       " 'Lombardia',\n",
       " 'Lucca',\n",
       " 'Macerata',\n",
       " 'Mantova',\n",
       " 'Marche',\n",
       " 'Massa-Carrara',\n",
       " 'Matera',\n",
       " 'Messina',\n",
       " 'Milano',\n",
       " 'Modena',\n",
       " 'Molise',\n",
       " 'Monza e della Brianza',\n",
       " 'Napoli',\n",
       " 'Nord-est',\n",
       " 'Nord-ovest',\n",
       " 'Novara',\n",
       " 'Nuoro',\n",
       " 'Oristano',\n",
       " 'Padova',\n",
       " 'Palermo',\n",
       " 'Parma',\n",
       " 'Pavia',\n",
       " 'Perugia',\n",
       " 'Pesaro e Urbino',\n",
       " 'Pescara',\n",
       " 'Piacenza',\n",
       " 'Piemonte',\n",
       " 'Pisa',\n",
       " 'Pistoia',\n",
       " 'Pordenone',\n",
       " 'Potenza',\n",
       " 'Prato',\n",
       " 'Provincia Autonoma Bolzano / Bozen',\n",
       " 'Provincia Autonoma Trento',\n",
       " 'Puglia',\n",
       " 'Ragusa',\n",
       " 'Ravenna',\n",
       " 'Reggio di Calabria',\n",
       " \"Reggio nell'Emilia\",\n",
       " 'Rieti',\n",
       " 'Rimini',\n",
       " 'Roma',\n",
       " 'Rovigo',\n",
       " 'Salerno',\n",
       " 'Sardegna',\n",
       " 'Sassari',\n",
       " 'Savona',\n",
       " 'Sicilia',\n",
       " 'Siena',\n",
       " 'Siracusa',\n",
       " 'Sondrio',\n",
       " 'Sud',\n",
       " 'Sud Sardegna',\n",
       " 'Taranto',\n",
       " 'Teramo',\n",
       " 'Terni',\n",
       " 'Torino',\n",
       " 'Toscana',\n",
       " 'Trapani',\n",
       " 'Trentino Alto Adige / Südtirol',\n",
       " 'Trento',\n",
       " 'Treviso',\n",
       " 'Trieste',\n",
       " 'Udine',\n",
       " 'Umbria',\n",
       " \"Valle d'Aosta / Vallée d'Aoste\",\n",
       " 'Varese',\n",
       " 'Veneto',\n",
       " 'Venezia',\n",
       " 'Verbano-Cusio-Ossola',\n",
       " 'Vercelli',\n",
       " 'Verona',\n",
       " 'Vibo Valentia',\n",
       " 'Vicenza',\n",
       " 'Viterbo']"
      ]
     },
     "execution_count": 5,
     "metadata": {},
     "output_type": "execute_result"
    }
   ],
   "source": [
    "sorted(df.Territorio.unique())"
   ]
  },
  {
   "cell_type": "code",
   "execution_count": 6,
   "metadata": {},
   "outputs": [],
   "source": [
    "df['anni'] = pd.to_numeric(df.ETA1.str.replace('Y','').str.replace('_GE', ''), errors='coerce')\n",
    "df = df.sort_values(by=['anni'])"
   ]
  },
  {
   "cell_type": "code",
   "execution_count": 7,
   "metadata": {},
   "outputs": [],
   "source": [
    "df = df[(df.Territorio=='Italia') & (df.Sesso=='totale') & (df['Stato civile']=='totale') & (~ df.anni.isnull())]"
   ]
  },
  {
   "cell_type": "code",
   "execution_count": 8,
   "metadata": {},
   "outputs": [
    {
     "data": {
      "image/png": "[encoded data removed]",
      "text/plain": [
       "<Figure size 1080x720 with 1 Axes>"
      ]
     },
     "metadata": {
      "needs_background": "light"
     },
     "output_type": "display_data"
    }
   ],
   "source": [
    "plt.figure(figsize=(15,10))\n",
    "plt.plot(df['anni'], df['Value'],linestyle='-')\n",
    "plt.title('Popolazione italiana per età')\n",
    "plt.xlabel('età')\n",
    "plt.ylabel('n.')\n",
    "plt.show()"
   ]
  },
  {
   "cell_type": "code",
   "execution_count": 9,
   "metadata": {
    "scrolled": false
   },
   "outputs": [],
   "source": [
    "df['Value_cum'] = df.Value.cumsum()\n",
    "df['Value_perc'] = df.Value_cum/df.Value_cum.max()"
   ]
  },
  {
   "cell_type": "code",
   "execution_count": 10,
   "metadata": {},
   "outputs": [
    {
     "data": {
      "image/png": "[encoded data removed]",
      "text/plain": [
       "<Figure size 1080x720 with 1 Axes>"
      ]
     },
     "metadata": {
      "needs_background": "light"
     },
     "output_type": "display_data"
    }
   ],
   "source": [
    "plt.figure(figsize=(15,10))\n",
    "plt.plot(df['anni'],df['Value_perc'], 'o', linestyle='-')\n",
    "plt.plot((0, 100),(1,1), color='red', linestyle='--')\n",
    "plt.plot((0, 100),(.5,.5), color='red', linestyle='-.')\n",
    "plt.title('Popolazione italiana, distribuzione cumulativa per età')\n",
    "plt.xlabel('età')\n",
    "plt.ylabel('n.')\n",
    "plt.show()"
   ]
  },
  {
   "cell_type": "markdown",
   "metadata": {
    "scrolled": false
   },
   "source": [
    "Per trasformare la distribuzione discreta in continua, usiamo la funzione [```interp1d```](https://docs.scipy.org/doc/scipy/reference/generated/scipy.interpolate.interp1d.html).\n",
    "\n",
    "Possiamo facilmente invertire la distribuzione cumulativa usando il campo ```Value_perc``` come asse $x$."
   ]
  },
  {
   "cell_type": "code",
   "execution_count": 11,
   "metadata": {
    "scrolled": false
   },
   "outputs": [],
   "source": [
    "from scipy.interpolate import interp1d\n",
    "interp_cum=interp1d(df['Value_perc'], df['anni'])\n",
    "interp_val=interp1d(df['anni'], df['Value'])"
   ]
  },
  {
   "cell_type": "markdown",
   "metadata": {},
   "source": [
    "La mediana è semplicemente il 50° percentile della cumulativa:"
   ]
  },
  {
   "cell_type": "code",
   "execution_count": 12,
   "metadata": {},
   "outputs": [
    {
     "name": "stdout",
     "output_type": "stream",
     "text": [
      "median:  46.217884360233455\n"
     ]
    }
   ],
   "source": [
    "median=interp_cum(0.5)\n",
    "print('median: ', median)"
   ]
  },
  {
   "cell_type": "markdown",
   "metadata": {},
   "source": [
    "La media si può calcolare come media pesata usando come pesi il numero di persone con una certa età."
   ]
  },
  {
   "cell_type": "code",
   "execution_count": 13,
   "metadata": {},
   "outputs": [
    {
     "name": "stdout",
     "output_type": "stream",
     "text": [
      "average:  45.23628494983224\n"
     ]
    }
   ],
   "source": [
    "avg=np.average(df['anni'], weights=df['Value'])\n",
    "print('average: ', avg)"
   ]
  },
  {
   "cell_type": "markdown",
   "metadata": {},
   "source": [
    "La moda è semplicemente il valore a cui corrisponde il maggior numero di persone. Può essere calcolato solo come valore intero, visto il formato dei dati. "
   ]
  },
  {
   "cell_type": "code",
   "execution_count": 14,
   "metadata": {},
   "outputs": [
    {
     "name": "stdout",
     "output_type": "stream",
     "text": [
      "mode:  55.0\n"
     ]
    }
   ],
   "source": [
    "mode=float(df.loc[df['Value'].idxmax()]['anni'])\n",
    "print('mode: ', mode)"
   ]
  },
  {
   "cell_type": "code",
   "execution_count": 15,
   "metadata": {},
   "outputs": [
    {
     "name": "stdout",
     "output_type": "stream",
     "text": [
      "average: 45.24, median: 46.22, mode: 55.00\n"
     ]
    }
   ],
   "source": [
    "print('average: {:.2f}, median: {:.2f}, mode: {:.2f}'.format(avg,median,mode))"
   ]
  },
  {
   "cell_type": "markdown",
   "metadata": {},
   "source": [
    "Possiamo riportare gli indicatodi sulla distribuzione"
   ]
  },
  {
   "cell_type": "code",
   "execution_count": 16,
   "metadata": {},
   "outputs": [
    {
     "name": "stdout",
     "output_type": "stream",
     "text": [
      "percentile: 10.00% 10.893830543245917\n",
      "percentile: 25.00% 26.230749659987875\n",
      "percentile: 75.00% 62.59456175935956\n",
      "percentile: 90.00% 76.06763860432993\n"
     ]
    },
    {
     "data": {
      "image/png": "[encoded data removed]",
      "text/plain": [
       "<Figure size 1080x720 with 1 Axes>"
      ]
     },
     "metadata": {
      "needs_background": "light"
     },
     "output_type": "display_data"
    }
   ],
   "source": [
    "plt.figure(figsize=(15,10))\n",
    "plt.plot(df['anni'], df['Value'],linestyle='-', label='popolazione')\n",
    "plt.plot((avg,avg), (0,interp_val(avg)), linestyle='-', label='media')\n",
    "plt.plot((mode,mode), (0,interp_val(mode)), linestyle='-', label='moda')\n",
    "plt.plot((median,median), (0,interp_val(median)), linestyle='-', color='blue', label='mediana')\n",
    "for perc in [0.1, 0.25, 0.75, 0.9]:\n",
    "    val = interp_cum(perc)\n",
    "    print(\"percentile: {:.2%}\".format(perc), val)\n",
    "    plt.plot((val,val), (0,interp_val(val)), linestyle='-.', color='blue', label='{:.2%}'.format(perc))\n",
    "plt.legend()\n",
    "plt.title('Popolazione italiana, distribuzione cumulativa per età')\n",
    "plt.xlabel('età')\n",
    "plt.ylabel('n.')\n",
    "plt.show()"
   ]
  },
  {
   "cell_type": "markdown",
   "metadata": {},
   "source": [
    "## Spunti per esercizi\n",
    "\n",
    "* Ripetere lo stesso grafico e la valutazione dei quantili per per alcune principali regioni o province italiane.\n",
    "* Confrontare sullo stesso grafico le distribuzioni di età per alcune principali regioni o province italiane.\n",
    "* Confrontare per Campania e Liguria a quel età corrisponde il 5% della popolazione più anziana"
   ]
  },
  {
   "cell_type": "code",
   "execution_count": null,
   "metadata": {},
   "outputs": [],
   "source": []
  }
 ],
 "metadata": {
  "kernelspec": {
   "display_name": "Python 3",
   "language": "python",
   "name": "python3"
  },
  "language_info": {
   "codemirror_mode": {
    "name": "ipython",
    "version": 3
   },
   "file_extension": ".py",
   "mimetype": "text/x-python",
   "name": "python",
   "nbconvert_exporter": "python",
   "pygments_lexer": "ipython3",
   "version": "3.7.3"
  }
 },
 "nbformat": 4,
 "nbformat_minor": 4
}
