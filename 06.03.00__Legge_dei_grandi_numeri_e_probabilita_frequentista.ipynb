{
 "cells": [
  {
   "cell_type": "markdown",
   "metadata": {},
   "source": [
    "# Legge dei grandi numeri e probabilità frequentista"
   ]
  },
  {
   "cell_type": "markdown",
   "metadata": {},
   "source": [
    "## Legge dei grandi numeri\n",
    "\n",
    "La legge dei grandi numeri è facile da intuire e ancora più facile da comprendere con simulazioni al calcolatore. Di seguito la dimostreremo con un esempio."
   ]
  },
  {
   "cell_type": "code",
   "execution_count": 1,
   "metadata": {},
   "outputs": [],
   "source": [
    "import matplotlib.pyplot as plt\n",
    "import random\n",
    "import numpy as np\n",
    "import math"
   ]
  },
  {
   "cell_type": "markdown",
   "metadata": {},
   "source": [
    "La legge dei grandi numeri stabilisce una proprietà della media di una sequenza di numeri casuali. La media di una sequenza molto grande di numeri casuali \"tende\" ad un valore fisso, che non è più casuale, al crescere della dimensione della sequenza.\n",
    "\n",
    "Simuliamo l'estrazione di un dado con 6 facce con la funzione ```random.randint(1,6)```"
   ]
  },
  {
   "cell_type": "code",
   "execution_count": 6,
   "metadata": {},
   "outputs": [
    {
     "name": "stdout",
     "output_type": "stream",
     "text": [
      "5\n"
     ]
    }
   ],
   "source": [
    "r = random.randint(1,6)\n",
    "print(r)"
   ]
  },
  {
   "cell_type": "markdown",
   "metadata": {},
   "source": [
    "Generiamo un numero alto di lanci"
   ]
  },
  {
   "cell_type": "code",
   "execution_count": 7,
   "metadata": {},
   "outputs": [],
   "source": [
    "n = 10000\n",
    "d1 = np.array([random.randint(1,6) for i in range(n)])\n",
    "d2 = np.array([random.randint(1,6) for i in range(n)])"
   ]
  },
  {
   "cell_type": "code",
   "execution_count": 9,
   "metadata": {},
   "outputs": [],
   "source": [
    "#print(list(d1))"
   ]
  },
  {
   "cell_type": "markdown",
   "metadata": {},
   "source": [
    "Definiamo la *media* di $k$ lanci come:\n",
    "\n",
    "$\\bar{x}_k = \\frac{\\displaystyle 1}{\\displaystyle k} {\\displaystyle \\sum_{i=1}^k x_i}$\n",
    "\n",
    "Calcoliamo la *media* dei primi $k$ lanci per ogni $k\\le n$. A scopo dimostrativo, genereremo due sequenze casuali diverse."
   ]
  },
  {
   "cell_type": "code",
   "execution_count": 10,
   "metadata": {},
   "outputs": [],
   "source": [
    "avg1 = [d1[:i+1].mean() for i in range(n)]\n",
    "avg2 = [d2[:i+1].mean() for i in range(n)]"
   ]
  },
  {
   "cell_type": "markdown",
   "metadata": {},
   "source": [
    "Mostriamo in un grafico come cambia $\\bar{x}$ al variare di $k$."
   ]
  },
  {
   "cell_type": "code",
   "execution_count": 11,
   "metadata": {},
   "outputs": [
    {
     "data": {
      "image/png": "[encoded data removed]",
      "text/plain": [
       "<Figure size 1080x432 with 1 Axes>"
      ]
     },
     "metadata": {
      "needs_background": "light"
     },
     "output_type": "display_data"
    }
   ],
   "source": [
    "plt.figure(figsize=(15,6))\n",
    "x = list(range(n))\n",
    "plt.plot(x,avg1)\n",
    "plt.plot(x,avg2)\n",
    "plt.plot([0,n],[3.5,3.5], linestyle='--')\n",
    "plt.title('Valor medio del lancio simulato di $n$ dadi')\n",
    "plt.xlabel('n')\n",
    "plt.ylabel('media')\n",
    "plt.show()"
   ]
  },
  {
   "cell_type": "markdown",
   "metadata": {},
   "source": [
    "Avevamo già dimostrato che la varianza di $\\bar{x}_k$ è pari a $\\sigma^2/k$, dove $\\sigma^2$ è la varianza di tutti gli $x_i$. Ci aspettiamo quindi una *dispersione* della distribuzione di $\\bar{x}_k$ sempre minore, man mano che $k$ aumenta.\n",
    "\n",
    "Aumentando il numero di conteggi $n$ è evidente dal grafico che la frequenza, al cerscere di $n$, si avvicina al *valore atteso* di $x$ dalla definizione di probabilità classica:\n",
    "\n",
    "$\\displaystyle \\mathbb{E}[x] =\\sum_{x=1}^6 x\\, P(x) = \\sum_{x=1}^6 x\\cdot\\frac{1}{6} = \\frac{1+\\cdots +6}{6}=3.5$"
   ]
  },
  {
   "cell_type": "code",
   "execution_count": 7,
   "metadata": {},
   "outputs": [
    {
     "data": {
      "text/plain": [
       "3.5"
      ]
     },
     "execution_count": 7,
     "metadata": {},
     "output_type": "execute_result"
    }
   ],
   "source": [
    "np.array(range(1,7)).mean()"
   ]
  },
  {
   "cell_type": "markdown",
   "metadata": {},
   "source": [
    "La legge dei grandi numeri si può considerare come legge empirica valida per le osservazioni di esperimenti ripetibili e viene usata alla base della formulazione della probabilità intesa in senso *frequentista*.\n",
    "\n",
    "La formulazione matematica della legge dei grandi numeri può essere fatta come segue.\n",
    "\n",
    "$\\displaystyle \\forall\\varepsilon\\,\\,\\,\\,\\lim_{k\\rightarrow\\infty}P(|\\bar{x}_k-\\mathbb{E}[x]|<\\varepsilon) = 1$\n",
    "\n",
    "Ossia, la media del campione di dimensione $k$ *converge in probabilità* al valore atteso $\\mathbb{E}[{x}]$. \n",
    "\n",
    "Nel caso del lancio dei dadi, questa proprietà può essere provata matematicamente sulla base del calcolo combinatorio, considerando tutti i possibili esiti dei $k$ lanci.\n",
    "\n",
    "Più in generale, però, dobbiamo ancora definire il significato di *probabilità* per questi casi, e lo faremo con l'approccio frequentista, che però assume che la legge dei grandi numeri sia valida, con un problema di dipendenza \"circolare\" del ragionamento."
   ]
  },
  {
   "cell_type": "markdown",
   "metadata": {},
   "source": [
    "## Probabilità frequentista\n",
    "\n",
    "In base alla legge dei grandi numeri, la probabilità frequentista è più facile da comprendere con simulazioni al calcolatore."
   ]
  },
  {
   "cell_type": "markdown",
   "metadata": {},
   "source": [
    "La probabilità frequentista è definita come limite della frequenza di un evento al tendere del numero di osservazioni all'infinito. Il limite è chiaramente inteso solo in senso ideale e ha difficoltà concettuali ad essere definito matematicamente in modo rigoroso. La \"dimostrazione\" con il calcolatore, più che con dispositivi fisici, inevitabilmente più lenti, esemplifica cosa si intende più facilmente di ogni tentativo di dimostrazione matematica."
   ]
  },
  {
   "cell_type": "markdown",
   "metadata": {},
   "source": [
    "Simuliamo l'estrazione di un dado con 6 facce con la funzione ```random.randint(1,6)```"
   ]
  },
  {
   "cell_type": "code",
   "execution_count": 16,
   "metadata": {},
   "outputs": [
    {
     "name": "stdout",
     "output_type": "stream",
     "text": [
      "3\n"
     ]
    }
   ],
   "source": [
    "r = random.randint(1,6)\n",
    "print(r)"
   ]
  },
  {
   "cell_type": "markdown",
   "metadata": {},
   "source": [
    "Generiamo un numero alto di lanci"
   ]
  },
  {
   "cell_type": "code",
   "execution_count": 21,
   "metadata": {},
   "outputs": [],
   "source": [
    "n = 100000\n",
    "d = np.empty(n)\n",
    "for i in range(n): d[i] = random.randint(1,6)\n",
    "#print(d)"
   ]
  },
  {
   "cell_type": "markdown",
   "metadata": {},
   "source": [
    "Calcoliamo la probabilità di ciascun risultato da 1 a 6"
   ]
  },
  {
   "cell_type": "code",
   "execution_count": 22,
   "metadata": {},
   "outputs": [
    {
     "name": "stdout",
     "output_type": "stream",
     "text": [
      "Conteggi:  [1667855. 1665718. 1666958. 1666383. 1665190. 1667896.]\n",
      "Frequenza: [0.1667855 0.1665718 0.1666958 0.1666383 0.166519  0.1667896]\n"
     ]
    }
   ],
   "source": [
    "count = np.empty(6)\n",
    "for i in range(6): count[i] = len(np.where(d==i+1)[0])\n",
    "freq = count/n\n",
    "print(\"Conteggi: \", count)\n",
    "print(\"Frequenza:\", freq)"
   ]
  },
  {
   "cell_type": "code",
   "execution_count": 23,
   "metadata": {},
   "outputs": [
    {
     "data": {
      "image/png": "[encoded data removed]",
      "text/plain": [
       "<Figure size 432x288 with 1 Axes>"
      ]
     },
     "metadata": {
      "needs_background": "light"
     },
     "output_type": "display_data"
    }
   ],
   "source": [
    "plt.figure()\n",
    "x=np.arange(1,7)\n",
    "plt.bar(x, freq, 1)\n",
    "plt.plot([0.5, 6.5], [1/6, 1/6], color='red',linestyle='--')\n",
    "plt.xlabel('n')\n",
    "plt.ylabel('freq.')\n",
    "plt.show()"
   ]
  },
  {
   "cell_type": "markdown",
   "metadata": {},
   "source": [
    "Aumentando il numero di conteggi $n$ è evidente che la frequenza, al cerscere di $n$, si avvicina al valore atteso dalla definizione di probabilità classica, $p = 1/6$. Il limite esatto non è reggiungible in realtà, se non attendendo un tempo infinito."
   ]
  },
  {
   "cell_type": "markdown",
   "metadata": {},
   "source": [
    "In sostanza, la probabilità frequentista definisce come probabilità il limite per $n\\rightarrow\\infty$ della frequenza, in analogia a quanto si può dimostrare nei casi trattabili attraverso la probabilità classica.\n",
    "\n",
    "Ci piacerebbe definire:\n",
    "\n",
    "$\\displaystyle P(x) = \\lim_{n\\rightarrow\\infty} \\frac{N_n(x)}{n}$\n",
    "\n",
    "Tuttavia, non c'è alcuna garanzia che la successione converga. Nulla impedisce, infatti, di osservare una sequenza arbitrariamente lunga di $6,6,6,6,\\cdots$. Semplicemente, ripetendo tante volte l'esperimento, quest accadrà *molto di rado*. Ma possiamo affermare che ciò è *improbabile* solo dopo aver definito cosa significa probabilità, e noi stiamo in qualche modo usando il concetto di probabilità *prima* di definirlo.\n",
    "\n",
    "La definizione della probabilità frequentista è:\n",
    "\n",
    "$\\displaystyle P(E) = p\\,\\,\\,\\mathrm{se}\\,\\,\\, \\forall\\varepsilon\\,\\,\\,\\lim_{n\\rightarrow\\infty}\n",
    "P\\left(\n",
    "\\left|\\frac{N_n(E)}{n}-p\\,\n",
    "\\right|<\\varepsilon\n",
    "\\right)=1$\n",
    "\n",
    "La principale difficoltà è che, nella realtà, il limite per $n\\rightarrow\\infty$ non è realizzabile. Inoltre, il passaggio al limite in probabilità, per definire a sua volta una probabilità, presenza delle inconsistenze logiche, come abbiamo già notato sopra.\n",
    "\n",
    "Tuttavia, i fisici, più degli statistici, spesso usano questo concetto in maniera pragmatica, senza troppa attenzione alle inconsistenze concettuali di questa definizione.\n",
    "\n",
    "\"*this definition is not very appealing to a mathematician, since it is based on experimentation, and, in fact, implies unrealizable experiments*\"\n",
    "\n",
    "Eadie, W., Drijard, D., James, F., Roos, M., Saudolet, B.: Statistical Methods in Experimental Physics. North Holland, Amsterdam (1971)"
   ]
  },
  {
   "cell_type": "markdown",
   "metadata": {},
   "source": [
    "## Successione logistica\n",
    "\n",
    "Rivediamo l'esempio della successione logistica per $r=4$ alla luce della legge dei grandi numeri e forniamo un'interpretazione frequentista della relativa probabilità."
   ]
  },
  {
   "cell_type": "code",
   "execution_count": 35,
   "metadata": {},
   "outputs": [
    {
     "data": {
      "image/png": "[encoded data removed]",
      "text/plain": [
       "<Figure size 864x576 with 1 Axes>"
      ]
     },
     "metadata": {
      "needs_background": "light"
     },
     "output_type": "display_data"
    }
   ],
   "source": [
    "seq=[]\n",
    "r=4\n",
    "x = 0.34567\n",
    "for i in range(100000):\n",
    "    seq.append(x)\n",
    "    x=r*x*(1-x)\n",
    "nbins=200\n",
    "plt.figure(figsize=(12,8))\n",
    "n, bins, patches = plt.hist(seq, nbins, density=True)\n",
    "delta=1/nbins\n",
    "x = np.arange(0+delta/2,1+delta/2,delta)\n",
    "y = c = 1./np.sqrt(x*(1-x))\n",
    "y/=math.pi\n",
    "plt.plot(x, y)\n",
    "plt.xlim(0, 1)\n",
    "plt.xlabel('x')\n",
    "plt.ylabel('prob')\n",
    "plt.show()"
   ]
  },
  {
   "cell_type": "markdown",
   "metadata": {},
   "source": [
    "# Campi di applicazione\n",
    "\n",
    "L'approccio frequentista si può applicare unicamente ai casi in cui la variabile casuale è il risultato di un esperimento ripetibile. Si applica bene, quindi, in molti campi scientifici sperimentali. Non si può applicare, tuttavia, a casi in cui si voglia stabilire la probabilità di un'affermazione di cui non è noto se sia vero o falso. \n",
    "\n",
    "Vista la necessità di ripetere l'esperimento nelle **identiche condizioni**, nelle applicazioni reali bisogna porre particolare attenzione.\n",
    "\n",
    "Esempi in cui **non** si può applicare la probabilità in senso ferquentista sono:\n",
    "* Probabilità che domani piova a Ginevra\n",
    "* Probabilità che il Napoli vinca la prossima partita di campionato\n",
    "* Probabilità che i dinosauri siano stati estinti da un asteroide\n",
    "* Probabilità che la materia oscura sia fatta da particelle con massa > 1 TeV\n",
    "* Probabilità che il Sars-Cov-2 sia stato prodotto artificialmente dall'uomo\n",
    "* Probabilità che la Terra sia piatta\n",
    "\n",
    "Tutte queste affermazioni possono vedere associata una probabilità nell'**approccio bayesiano** che vedremo successivamente."
   ]
  }
 ],
 "metadata": {
  "kernelspec": {
   "display_name": "Python 3",
   "language": "python",
   "name": "python3"
  },
  "language_info": {
   "codemirror_mode": {
    "name": "ipython",
    "version": 3
   },
   "file_extension": ".py",
   "mimetype": "text/x-python",
   "name": "python",
   "nbconvert_exporter": "python",
   "pygments_lexer": "ipython3",
   "version": "3.7.3"
  }
 },
 "nbformat": 4,
 "nbformat_minor": 4
}
