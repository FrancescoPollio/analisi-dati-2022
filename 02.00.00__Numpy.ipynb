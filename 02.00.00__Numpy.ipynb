{
 "cells": [
  {
   "cell_type": "markdown",
   "metadata": {},
   "source": [
    "# Numpy\n",
    "\n",
    "Numpy è un modulo che gestisce e manipola array di numeri.\n",
    "\n",
    "Permette di svolgere operazioni tra tutti gli elementi con una sola istruzione facendo risparmiare molte linee di codice. In questo modo lo stile del codice eviterà diversi *loop* uno dentro l'altro favorendo una scrittura più lineare ed in genere fornisce implementazioni più veloci.\n",
    "\n",
    "A differenze delle liste python, **il tipo di dati è fisso** in numpy perché usa aree di memoria contigue. Questo rende l'implementazione più rapida delle liste usuali. \n",
    "\n",
    "* <a href=\"https://numpy.org/\">documentazione</a>\n",
    "\n",
    "* <a href=\"https://youtu.be/GB9ByFAIAH4\">tutorial online</a>"
   ]
  },
  {
   "cell_type": "code",
   "execution_count": 1,
   "metadata": {},
   "outputs": [],
   "source": [
    "import numpy as np\n",
    "import math"
   ]
  },
  {
   "cell_type": "code",
   "execution_count": 30,
   "metadata": {},
   "outputs": [
    {
     "name": "stdout",
     "output_type": "stream",
     "text": [
      "[ 5 12 14]\n"
     ]
    }
   ],
   "source": [
    "x = np.array([2, 5, 6])\n",
    "y = np.array([3, 7, 8])\n",
    "xy = x+y\n",
    "print(xy)"
   ]
  },
  {
   "cell_type": "markdown",
   "metadata": {},
   "source": [
    "Definiamo una matrice di rotazione di un angolo $\\theta = \\pi/3$:"
   ]
  },
  {
   "cell_type": "code",
   "execution_count": 4,
   "metadata": {},
   "outputs": [
    {
     "name": "stdout",
     "output_type": "stream",
     "text": [
      "[[ 0.5        0.8660254]\n",
      " [-0.8660254  0.5      ]]\n",
      "dimensions:  2\n",
      "rows, cols:  (2, 2)\n",
      "data type:  float64\n"
     ]
    }
   ],
   "source": [
    "theta = math.pi/3\n",
    "st = math.sin(theta); ct = math.cos(theta)\n",
    "rot = np.array([[ct, st],[-st, ct]])\n",
    "print(rot)\n",
    "print(\"dimensions: \", rot.ndim)\n",
    "print(\"rows, cols: \", rot.shape)\n",
    "print(\"data type: \", rot.dtype)"
   ]
  },
  {
   "cell_type": "code",
   "execution_count": 5,
   "metadata": {},
   "outputs": [
    {
     "name": "stdout",
     "output_type": "stream",
     "text": [
      "0.5000000000000001 0.8660254037844386\n",
      "-0.8660254037844386 0.5000000000000001\n"
     ]
    }
   ],
   "source": [
    "rot11 = rot[0,0]; rot12 = rot[0,1]\n",
    "rot21 = rot[1,0]; rot22 = rot[1,1]\n",
    "print(rot11, rot12)\n",
    "print(rot21, rot22)"
   ]
  },
  {
   "cell_type": "markdown",
   "metadata": {},
   "source": [
    "Il tipo dei dati può essere specificato come parametro al momento della creazione dell'array."
   ]
  },
  {
   "cell_type": "code",
   "execution_count": 6,
   "metadata": {},
   "outputs": [
    {
     "name": "stdout",
     "output_type": "stream",
     "text": [
      "[2 5 6]\n"
     ]
    }
   ],
   "source": [
    "x = np.array([2, 5, 6], np.int32)\n",
    "print(x)"
   ]
  },
  {
   "cell_type": "code",
   "execution_count": 9,
   "metadata": {},
   "outputs": [
    {
     "name": "stdout",
     "output_type": "stream",
     "text": [
      "[2. 5. 6.]\n"
     ]
    }
   ],
   "source": [
    "x = np.array([2, 5, 6], np.float64)\n",
    "print(x)"
   ]
  },
  {
   "cell_type": "markdown",
   "metadata": {},
   "source": [
    "Accesso alle specifiche righe:"
   ]
  },
  {
   "cell_type": "code",
   "execution_count": 10,
   "metadata": {},
   "outputs": [
    {
     "name": "stdout",
     "output_type": "stream",
     "text": [
      "[0.5       0.8660254]\n",
      "[-0.8660254  0.5      ]\n",
      "[0.5       0.8660254]\n",
      "[-0.8660254  0.5      ]\n"
     ]
    }
   ],
   "source": [
    "print(rot[0])\n",
    "print(rot[1])\n",
    "print(rot[0, :])\n",
    "print(rot[1, :])"
   ]
  },
  {
   "cell_type": "markdown",
   "metadata": {},
   "source": [
    "Accesso alle specifiche colonne:"
   ]
  },
  {
   "cell_type": "code",
   "execution_count": 11,
   "metadata": {},
   "outputs": [
    {
     "name": "stdout",
     "output_type": "stream",
     "text": [
      "[ 0.5       -0.8660254]\n",
      "[0.8660254 0.5      ]\n"
     ]
    }
   ],
   "source": [
    "print(rot[:, 0])\n",
    "print(rot[:, 1])"
   ]
  },
  {
   "cell_type": "markdown",
   "metadata": {},
   "source": [
    "Accesso a sottoinsiemi della matrice (ossia al *minore* della matrice).\n",
    "Notare: l'ultimo indice in ```1:3``` non è incluso!"
   ]
  },
  {
   "cell_type": "code",
   "execution_count": 9,
   "metadata": {},
   "outputs": [
    {
     "name": "stdout",
     "output_type": "stream",
     "text": [
      "[[ 1  2  3  4]\n",
      " [ 5  6  7  8]\n",
      " [ 9 10 11 12]]\n",
      "[[ 6  7]\n",
      " [10 11]]\n"
     ]
    }
   ],
   "source": [
    "m = np.array([[1, 2, 3, 4], [5, 6, 7, 8], [9, 10 , 11, 12]])\n",
    "print(m)\n",
    "m1 = m[1:3, 1:3]\n",
    "print(m1)"
   ]
  },
  {
   "cell_type": "markdown",
   "metadata": {},
   "source": [
    "Accesso agli elementi saltandone un certo numero"
   ]
  },
  {
   "cell_type": "code",
   "execution_count": 10,
   "metadata": {},
   "outputs": [
    {
     "name": "stdout",
     "output_type": "stream",
     "text": [
      "[[ 1  2  3  4  5  6  7  8]\n",
      " [ 9 10 11 12 13 14 15 16]]\n",
      "[[ 1  3  5  7]\n",
      " [ 9 11 13 15]]\n",
      "[[ 2  4  6  8]\n",
      " [10 12 14 16]]\n"
     ]
    }
   ],
   "source": [
    "m = np.array([[1, 2, 3, 4, 5, 6, 7, 8], [9, 10 , 11, 12, 13, 14, 15, 16]])\n",
    "print(m)\n",
    "# skip even or odd columns \n",
    "me = m[0:2, 0:8:2]\n",
    "mo = m[0:2, 1:8:2]\n",
    "print(me)\n",
    "print(mo)"
   ]
  },
  {
   "cell_type": "markdown",
   "metadata": {},
   "source": [
    "Accesso ad elementi dato un insieme di indici"
   ]
  },
  {
   "cell_type": "markdown",
   "metadata": {},
   "source": [
    "Accesso a sottoinsiemi in scrittura:"
   ]
  },
  {
   "cell_type": "code",
   "execution_count": 14,
   "metadata": {},
   "outputs": [
    {
     "name": "stdout",
     "output_type": "stream",
     "text": [
      "[0. 0. 0. 0. 0. 0. 0. 0. 0. 0.]\n",
      "[0. 0. 2. 2. 2. 0. 0. 0. 0. 0.]\n",
      "[0. 0. 1. 2. 3. 0. 0. 0. 0. 0.]\n"
     ]
    }
   ],
   "source": [
    "x = np.zeros(10)\n",
    "print(x)\n",
    "x[2:5] = 2\n",
    "print(x)\n",
    "x[2:5] = [1, 2, 3]\n",
    "print(x)"
   ]
  },
  {
   "cell_type": "markdown",
   "metadata": {},
   "source": [
    "Inizializzazione: tutti zeri o uno, o non inizializzati"
   ]
  },
  {
   "cell_type": "code",
   "execution_count": 17,
   "metadata": {},
   "outputs": [
    {
     "name": "stdout",
     "output_type": "stream",
     "text": [
      "[[1. 1.]\n",
      " [1. 1.]\n",
      " [1. 1.]]\n",
      "[[0. 0.]\n",
      " [0. 0.]\n",
      " [0. 0.]]\n",
      "[[ 4.64951479e-310  0.00000000e+000  6.98853958e+228  2.11653524e+214\n",
      "   9.62006198e+228  3.38460673e+125  6.69053866e+151  6.56693077e-085]\n",
      " [ 4.42828483e-239  3.27748881e-313  7.52744116e+252  5.82392120e+252\n",
      "   6.58203621e-085  1.42800637e+248  9.06343082e+231  7.72198486e+228]\n",
      " [ 4.71526669e+180  1.24590723e-224  1.19776716e-312  7.52744116e+252\n",
      "   5.82392120e+252  2.06934482e+243  1.05632950e-310  2.24261886e-205]\n",
      " [ 4.76288587e-313  7.52744116e+252  5.82392120e+252  6.58203139e-085\n",
      "   3.94354960e+180 -3.38460686e+125  2.57153710e+151  1.50107583e+164]\n",
      " [ 5.18763613e-313  3.67767335e-308  1.33360302e+241  2.52305300e-310\n",
      "   3.79519126e-080  5.54041819e+228  6.75635367e-312  1.27594635e-303]\n",
      " [ 3.36312407e-284  1.27613549e-303  5.48092443e-294  8.20430627e-304\n",
      "   8.20430627e-304  8.20430627e-304  5.74115043e-183  6.95335594e-308]]\n"
     ]
    }
   ],
   "source": [
    "x = np.ones((3,2))\n",
    "print(x)\n",
    "x = np.zeros((3,2))\n",
    "print(x)\n",
    "x = np.empty((6,8))\n",
    "print(x)"
   ]
  },
  {
   "cell_type": "markdown",
   "metadata": {},
   "source": [
    "Inizializzazione: tutti valori uguali"
   ]
  },
  {
   "cell_type": "code",
   "execution_count": 19,
   "metadata": {},
   "outputs": [
    {
     "name": "stdout",
     "output_type": "stream",
     "text": [
      "[[3.14 3.14 3.14]\n",
      " [3.14 3.14 3.14]]\n"
     ]
    }
   ],
   "source": [
    "x = np.full((2,3),3.14)\n",
    "print(x)"
   ]
  },
  {
   "cell_type": "markdown",
   "metadata": {},
   "source": [
    "Inizializzazione: casuale"
   ]
  },
  {
   "cell_type": "code",
   "execution_count": 20,
   "metadata": {},
   "outputs": [
    {
     "name": "stdout",
     "output_type": "stream",
     "text": [
      "[[0.78532587 0.32653331 0.6354537 ]\n",
      " [0.54691649 0.67209511 0.94320211]\n",
      " [0.12765764 0.0557643  0.23074604]]\n"
     ]
    }
   ],
   "source": [
    "r = np.random.rand(3,3)\n",
    "print(r)"
   ]
  },
  {
   "cell_type": "markdown",
   "metadata": {},
   "source": [
    "Matrice identità"
   ]
  },
  {
   "cell_type": "code",
   "execution_count": 21,
   "metadata": {},
   "outputs": [
    {
     "name": "stdout",
     "output_type": "stream",
     "text": [
      "[[1. 0. 0. 0.]\n",
      " [0. 1. 0. 0.]\n",
      " [0. 0. 1. 0.]\n",
      " [0. 0. 0. 1.]]\n"
     ]
    }
   ],
   "source": [
    "i = np.identity(4)\n",
    "print(i)"
   ]
  },
  {
   "cell_type": "markdown",
   "metadata": {},
   "source": [
    "Accesso a blocchi in scrittura"
   ]
  },
  {
   "cell_type": "code",
   "execution_count": 22,
   "metadata": {},
   "outputs": [
    {
     "name": "stdout",
     "output_type": "stream",
     "text": [
      "[[ 1.         0.         0.         0.       ]\n",
      " [ 0.         1.         0.         0.       ]\n",
      " [ 0.5        0.8660254  1.         0.       ]\n",
      " [-0.8660254  0.5        0.         1.       ]]\n"
     ]
    }
   ],
   "source": [
    "i[2:4,0:2] = rot\n",
    "print(i)"
   ]
  },
  {
   "cell_type": "code",
   "execution_count": 23,
   "metadata": {},
   "outputs": [
    {
     "name": "stdout",
     "output_type": "stream",
     "text": [
      "[[ 1.         0.         0.5        0.8660254]\n",
      " [ 0.         1.        -0.8660254  0.5      ]\n",
      " [ 0.5        0.8660254  1.         0.       ]\n",
      " [-0.8660254  0.5        0.         1.       ]]\n"
     ]
    }
   ],
   "source": [
    "i[0:2,2:4] = rot\n",
    "print(i)"
   ]
  },
  {
   "cell_type": "markdown",
   "metadata": {},
   "source": [
    "Selezione di elementi multipli in base ad un insieme di indici:"
   ]
  },
  {
   "cell_type": "code",
   "execution_count": 24,
   "metadata": {},
   "outputs": [
    {
     "name": "stdout",
     "output_type": "stream",
     "text": [
      "[20 40 60 80]\n",
      "[10 30 50 70]\n"
     ]
    },
    {
     "data": {
      "text/plain": [
       "array([20, 30, 50])"
      ]
     },
     "execution_count": 24,
     "metadata": {},
     "output_type": "execute_result"
    }
   ],
   "source": [
    "x = np.array([10, 20, 30, 40, 50, 60, 70, 80])\n",
    "ev = x[[1, 3, 5, 7]]\n",
    "od = x[[0, 2, 4, 6]]\n",
    "print(ev)\n",
    "print(od)\n",
    "x = np.array([[0, 10, 20, 30, 40, 50, 60]])\n",
    "np.take(x, [2, 3, 5])"
   ]
  },
  {
   "cell_type": "code",
   "execution_count": 25,
   "metadata": {},
   "outputs": [
    {
     "name": "stdout",
     "output_type": "stream",
     "text": [
      "[[1 0 0 0]\n",
      " [0 2 0 0]\n",
      " [0 0 3 0]\n",
      " [0 0 0 4]]\n",
      "[1 2 3 4]\n"
     ]
    }
   ],
   "source": [
    "m = np.array([[1, 0, 0, 0], [0, 2, 0, 0], [0, 0, 3, 0], [0, 0, 0, 4]])\n",
    "print(m)\n",
    "diag = m[[0, 1, 2, 3], [0, 1, 2, 3]]\n",
    "print(diag)"
   ]
  },
  {
   "cell_type": "markdown",
   "metadata": {},
   "source": [
    "# Copie: shallow vs deep\n",
    "La copia di default è *shallow*, ossia viene assegnato un puntatore all'oggetto originale. Per avere una copia diversa dall'ogetto originale bisogna usare il metodo ```copy()```."
   ]
  },
  {
   "cell_type": "code",
   "execution_count": 26,
   "metadata": {},
   "outputs": [
    {
     "name": "stdout",
     "output_type": "stream",
     "text": [
      "[0. 0. 0. 0. 0.] [0. 0. 0. 0. 0.]\n",
      "[0. 0. 9. 2. 0.] [0. 0. 9. 2. 0.]\n"
     ]
    }
   ],
   "source": [
    "a = np.zeros(5)\n",
    "b = a\n",
    "print(a, b)\n",
    "a[2] = 9\n",
    "b[3] = 2\n",
    "print(a,b)"
   ]
  },
  {
   "cell_type": "code",
   "execution_count": 27,
   "metadata": {},
   "outputs": [
    {
     "name": "stdout",
     "output_type": "stream",
     "text": [
      "[0. 0. 0. 0. 0.] [0. 0. 0. 0. 0.]\n",
      "[0. 0. 9. 0. 0.] [0. 0. 0. 2. 0.]\n"
     ]
    }
   ],
   "source": [
    "a = np.zeros(5)\n",
    "b = a.copy()\n",
    "print(a, b)\n",
    "a[2] = 9\n",
    "b[3] = 2\n",
    "print(a,b)"
   ]
  },
  {
   "cell_type": "markdown",
   "metadata": {},
   "source": [
    "# Manipolazione con operazioni matematiche\n",
    "\n",
    "In sostanza, tutte le operazioni vengono svolte elemento per elemento.\n",
    "\n",
    "Attenzione! La moltiplicazione tra matrici su puà fare come ```np.matmul(a,b)```, **non** come ```a*b```."
   ]
  },
  {
   "cell_type": "code",
   "execution_count": 28,
   "metadata": {},
   "outputs": [
    {
     "name": "stdout",
     "output_type": "stream",
     "text": [
      "[1 2 3] [2 4 6]\n"
     ]
    }
   ],
   "source": [
    "a = np.array([1,2,3])\n",
    "b = a*2\n",
    "print(a, b)"
   ]
  },
  {
   "cell_type": "markdown",
   "metadata": {},
   "source": [
    "Moltiplicazione elemento per elento"
   ]
  },
  {
   "cell_type": "code",
   "execution_count": 29,
   "metadata": {},
   "outputs": [
    {
     "name": "stdout",
     "output_type": "stream",
     "text": [
      "[1 2 3 4] [3 4 5 6] [ 3  8 15 24]\n"
     ]
    }
   ],
   "source": [
    "a = np.array([1,2,3,4]); b = np.array([3, 4, 5, 6])\n",
    "ab = a*b\n",
    "print(a, b, ab)"
   ]
  },
  {
   "cell_type": "code",
   "execution_count": 32,
   "metadata": {},
   "outputs": [
    {
     "name": "stdout",
     "output_type": "stream",
     "text": [
      "[1 2 3 4] [   1   64  729 4096]\n"
     ]
    }
   ],
   "source": [
    "a6 = a**6\n",
    "print(a, a6)"
   ]
  },
  {
   "cell_type": "markdown",
   "metadata": {},
   "source": [
    "Sequenza equispaziata tra un valore minimo ed un valore massimo"
   ]
  },
  {
   "cell_type": "code",
   "execution_count": 40,
   "metadata": {},
   "outputs": [
    {
     "name": "stdout",
     "output_type": "stream",
     "text": [
      "[0.         0.31415927 0.62831853 0.9424778  1.25663706 1.57079633\n",
      " 1.88495559 2.19911486 2.51327412 2.82743339 3.14159265]\n",
      "[0.         0.31415927 0.62831853 0.9424778  1.25663706 1.57079633\n",
      " 1.88495559 2.19911486 2.51327412 2.82743339 3.14159265]\n"
     ]
    }
   ],
   "source": [
    "bins = 10\n",
    "step = math.pi/bins\n",
    "theta = np.arange(0, math.pi+step/2, step)\n",
    "print(theta)\n",
    "theta = np.linspace(0, math.pi, 11)\n",
    "print(theta)"
   ]
  },
  {
   "cell_type": "markdown",
   "metadata": {},
   "source": [
    "Possiamo calcolare i valori di una funzione corrispondenti agli elementi che passiamo.\n",
    "\n",
    "Questa funzione è estremamente utile per fare grafici di una funzione, che di fatto sono curve che passano per una serie di punti forniti dall'utente."
   ]
  },
  {
   "cell_type": "code",
   "execution_count": 44,
   "metadata": {},
   "outputs": [
    {
     "name": "stdout",
     "output_type": "stream",
     "text": [
      "[ 1.      0.9511  0.809   0.5878  0.309   0.     -0.309  -0.5878 -0.809\n",
      " -0.9511 -1.    ]\n",
      "[0.     0.309  0.5878 0.809  0.9511 1.     0.9511 0.809  0.5878 0.309\n",
      " 0.    ]\n"
     ]
    }
   ],
   "source": [
    "ct = np.cos(theta)\n",
    "st = np.sin(theta)\n",
    "np.set_printoptions(precision=4, suppress=True)\n",
    "print(ct)\n",
    "print(st)"
   ]
  },
  {
   "cell_type": "markdown",
   "metadata": {},
   "source": [
    "Applicare ripetutamente una funzione. Questa possibilità sfrutta il fatto che python è un interprete. Purché sia definito l'operatore ```**``` (```x**2```), la funzione ```fun``` può essere eseguita."
   ]
  },
  {
   "cell_type": "code",
   "execution_count": 48,
   "metadata": {},
   "outputs": [
    {
     "name": "stdout",
     "output_type": "stream",
     "text": [
      "[ 0  3  8 15 24]\n"
     ]
    }
   ],
   "source": [
    "v = np.array([1, 2, 3, 4, 5])\n",
    "fun = lambda x: x**2 - 1\n",
    "#def fun(x): return x**2 -1\n",
    "f = fun(v)\n",
    "print(f)"
   ]
  },
  {
   "cell_type": "markdown",
   "metadata": {},
   "source": [
    "Si può definire una funzione che prende come argomento un ```np.array``` e applica ripetutamente un'altra funzione data a ciascun elemento."
   ]
  },
  {
   "cell_type": "code",
   "execution_count": 49,
   "metadata": {},
   "outputs": [],
   "source": [
    "def sinus(x):\n",
    "    return math.sin(x)+math.cos(x)"
   ]
  },
  {
   "cell_type": "code",
   "execution_count": 52,
   "metadata": {},
   "outputs": [
    {
     "ename": "TypeError",
     "evalue": "only size-1 arrays can be converted to Python scalars",
     "output_type": "error",
     "traceback": [
      "\u001b[0;31m---------------------------------------------------------------------------\u001b[0m",
      "\u001b[0;31mTypeError\u001b[0m                                 Traceback (most recent call last)",
      "\u001b[0;32m<ipython-input-52-cab4aa94c895>\u001b[0m in \u001b[0;36m<module>\u001b[0;34m\u001b[0m\n\u001b[1;32m      1\u001b[0m \u001b[0;31m# l'istruzione che segue dà un errore\u001b[0m\u001b[0;34m\u001b[0m\u001b[0;34m\u001b[0m\u001b[0;34m\u001b[0m\u001b[0m\n\u001b[0;32m----> 2\u001b[0;31m \u001b[0mf\u001b[0m \u001b[0;34m=\u001b[0m \u001b[0msinus\u001b[0m\u001b[0;34m(\u001b[0m\u001b[0mv\u001b[0m\u001b[0;34m)\u001b[0m\u001b[0;34m\u001b[0m\u001b[0;34m\u001b[0m\u001b[0m\n\u001b[0m",
      "\u001b[0;32m<ipython-input-49-3affd5d90e83>\u001b[0m in \u001b[0;36msinus\u001b[0;34m(x)\u001b[0m\n\u001b[1;32m      1\u001b[0m \u001b[0;32mdef\u001b[0m \u001b[0msinus\u001b[0m\u001b[0;34m(\u001b[0m\u001b[0mx\u001b[0m\u001b[0;34m)\u001b[0m\u001b[0;34m:\u001b[0m\u001b[0;34m\u001b[0m\u001b[0;34m\u001b[0m\u001b[0m\n\u001b[0;32m----> 2\u001b[0;31m     \u001b[0;32mreturn\u001b[0m \u001b[0mmath\u001b[0m\u001b[0;34m.\u001b[0m\u001b[0msin\u001b[0m\u001b[0;34m(\u001b[0m\u001b[0mx\u001b[0m\u001b[0;34m)\u001b[0m\u001b[0;34m+\u001b[0m\u001b[0mmath\u001b[0m\u001b[0;34m.\u001b[0m\u001b[0mcos\u001b[0m\u001b[0;34m(\u001b[0m\u001b[0mx\u001b[0m\u001b[0;34m)\u001b[0m\u001b[0;34m\u001b[0m\u001b[0;34m\u001b[0m\u001b[0m\n\u001b[0m",
      "\u001b[0;31mTypeError\u001b[0m: only size-1 arrays can be converted to Python scalars"
     ]
    }
   ],
   "source": [
    "# l'istruzione che segue dà un errore\n",
    "f = sinus(v)"
   ]
  },
  {
   "cell_type": "code",
   "execution_count": 54,
   "metadata": {},
   "outputs": [
    {
     "name": "stdout",
     "output_type": "stream",
     "text": [
      "[ 1.3818  0.4932 -0.8489 -1.4104 -0.6753]\n"
     ]
    }
   ],
   "source": [
    "vfunc = np.vectorize(sinus)\n",
    "f = vfunc(v)\n",
    "print(f)"
   ]
  },
  {
   "cell_type": "code",
   "execution_count": 55,
   "metadata": {},
   "outputs": [
    {
     "name": "stdout",
     "output_type": "stream",
     "text": [
      "[ 1.3818  0.4932 -0.8489 -1.4104 -0.6753]\n"
     ]
    }
   ],
   "source": [
    "def vsinus(x):\n",
    "    return np.sin(x)+np.cos(x)\n",
    "f = vsinus(v)\n",
    "print(f)"
   ]
  },
  {
   "cell_type": "code",
   "execution_count": 56,
   "metadata": {},
   "outputs": [
    {
     "name": "stdout",
     "output_type": "stream",
     "text": [
      "[1.     0.9983 0.9933 0.9851]\n"
     ]
    }
   ],
   "source": [
    "v = np.array([0.0, 0.1, 0.2, 0.3])\n",
    "fun = lambda x: 1.0 if x==0 else math.sin(x)/x\n",
    "f = np.vectorize(fun)(v)\n",
    "print(f)"
   ]
  },
  {
   "cell_type": "markdown",
   "metadata": {},
   "source": [
    "# Algebra lineare"
   ]
  },
  {
   "cell_type": "markdown",
   "metadata": {},
   "source": [
    "Prodotto tra matrici"
   ]
  },
  {
   "cell_type": "code",
   "execution_count": 57,
   "metadata": {},
   "outputs": [
    {
     "name": "stdout",
     "output_type": "stream",
     "text": [
      "[[22 28]\n",
      " [49 64]]\n"
     ]
    }
   ],
   "source": [
    "a = np.array([[1, 2, 3],[4, 5, 6]])\n",
    "b = np.array([[1,2], [3, 4], [5,6]])\n",
    "ab = np.matmul(a,b)\n",
    "print(ab)"
   ]
  },
  {
   "cell_type": "markdown",
   "metadata": {},
   "source": [
    "Determinante"
   ]
  },
  {
   "cell_type": "code",
   "execution_count": 58,
   "metadata": {},
   "outputs": [
    {
     "name": "stdout",
     "output_type": "stream",
     "text": [
      "35.99999999999982\n",
      "36\n"
     ]
    }
   ],
   "source": [
    "det = np.linalg.det(ab)\n",
    "print(det)\n",
    "print(22*64-28*49)"
   ]
  },
  {
   "cell_type": "markdown",
   "metadata": {},
   "source": [
    "Matrice inversa"
   ]
  },
  {
   "cell_type": "code",
   "execution_count": 59,
   "metadata": {},
   "outputs": [
    {
     "name": "stdout",
     "output_type": "stream",
     "text": [
      "[[ 1.7778 -0.7778]\n",
      " [-1.3611  0.6111]]\n"
     ]
    }
   ],
   "source": [
    "inv = np.linalg.inv(ab)\n",
    "print(inv)"
   ]
  },
  {
   "cell_type": "markdown",
   "metadata": {},
   "source": [
    "Calcolo degli autovalori ed autovettori"
   ]
  },
  {
   "cell_type": "code",
   "execution_count": 60,
   "metadata": {},
   "outputs": [
    {
     "name": "stdout",
     "output_type": "stream",
     "text": [
      "[[1 2 0 0]\n",
      " [2 1 0 0]\n",
      " [0 0 2 3]\n",
      " [0 0 3 2]]\n"
     ]
    }
   ],
   "source": [
    "a = np.array([[1, 2, 0, 0],[2, 1, 0, 0], [0, 0, 2, 3],[0, 0, 3, 2]])\n",
    "print(a)"
   ]
  },
  {
   "cell_type": "code",
   "execution_count": 61,
   "metadata": {},
   "outputs": [
    {
     "name": "stdout",
     "output_type": "stream",
     "text": [
      "[ 3. -1.  5. -1.]\n",
      "[[ 0.7071 -0.7071  0.      0.    ]\n",
      " [ 0.7071  0.7071  0.      0.    ]\n",
      " [ 0.      0.      0.7071 -0.7071]\n",
      " [ 0.      0.      0.7071  0.7071]]\n"
     ]
    }
   ],
   "source": [
    "w, v = np.linalg.eig(a)\n",
    "print(w)\n",
    "print(v)"
   ]
  },
  {
   "cell_type": "markdown",
   "metadata": {},
   "source": [
    "# Principali indicatori statistici\n",
    "\n",
    "In seguito daremo una più precisa definizione degli indicatori statistici. Quella che segue è solo un'anteprima."
   ]
  },
  {
   "cell_type": "code",
   "execution_count": 62,
   "metadata": {},
   "outputs": [
    {
     "name": "stdout",
     "output_type": "stream",
     "text": [
      "0.07748896116464354 0.9261458803445538\n",
      "sum:  5.316018312879157\n",
      "mean:  0.5316018312879157\n",
      "mean:  0.5316018312879157\n",
      "mean sq:  0.3747263891513161\n",
      "variance:  0.0921258821226505\n",
      "variance:  0.09212588212265047\n",
      "std. dev:  0.30352245736131367\n",
      "std. dev:  0.30352245736131367\n"
     ]
    }
   ],
   "source": [
    "x = np.random.rand(10)\n",
    "print(x.min(),x.max())\n",
    "print(\"sum: \", x.sum())\n",
    "print(\"mean: \", x.sum()/x.shape[0])\n",
    "print(\"mean: \", x.mean())\n",
    "print(\"mean sq: \", (x**2).mean())\n",
    "print(\"variance: \", (x**2).mean()-x.mean()**2)\n",
    "print(\"variance: \", x.var())\n",
    "print(\"std. dev: \", math.sqrt(x.var()))\n",
    "print(\"std. dev: \", x.std())"
   ]
  },
  {
   "cell_type": "code",
   "execution_count": 63,
   "metadata": {},
   "outputs": [
    {
     "name": "stdout",
     "output_type": "stream",
     "text": [
      "[[0.1747 0.8224 0.3502 0.9506]\n",
      " [0.2286 0.9299 0.2249 0.6159]\n",
      " [0.5439 0.4481 0.8291 0.2982]\n",
      " [0.0686 0.9037 0.8603 0.4758]\n",
      " [0.5457 0.8009 0.5762 0.3131]\n",
      " [0.7023 0.6795 0.0167 0.5643]]\n",
      "sum:  12.923872399143006\n",
      "sum cols:  [2.2639 4.5845 2.8575 3.218 ]\n",
      "sum rows:  [2.2979 1.9995 2.1194 2.3084 2.2359 1.9628]\n"
     ]
    }
   ],
   "source": [
    "m = np.random.rand(6, 4)\n",
    "print(m)\n",
    "print(\"sum: \", m.sum())\n",
    "print(\"sum cols: \", m.sum(axis = 0))\n",
    "print(\"sum rows: \", m.sum(axis = 1))"
   ]
  },
  {
   "cell_type": "markdown",
   "metadata": {},
   "source": [
    "# Altre manipolazioni"
   ]
  },
  {
   "cell_type": "code",
   "execution_count": 65,
   "metadata": {},
   "outputs": [
    {
     "name": "stdout",
     "output_type": "stream",
     "text": [
      "[[1 2 3 4]\n",
      " [5 6 7 8]]\n"
     ]
    }
   ],
   "source": [
    "v1 = np.array([1,2,3,4])\n",
    "v2 = np.array([5,6,7,8])\n",
    "v = np.vstack([v1,v2])\n",
    "print(v)"
   ]
  },
  {
   "cell_type": "code",
   "execution_count": 66,
   "metadata": {},
   "outputs": [
    {
     "name": "stdout",
     "output_type": "stream",
     "text": [
      "[[ 1  2  5  6  7]\n",
      " [ 3  4  8  9 10]]\n"
     ]
    }
   ],
   "source": [
    "h1 = np.array([[1,2], [3, 4]])\n",
    "h2 = np.array([[5, 6, 7], [8, 9, 10]])\n",
    "h = np.hstack([h1, h2])\n",
    "print(h)"
   ]
  },
  {
   "cell_type": "markdown",
   "metadata": {},
   "source": [
    "Non è una funzione ```numpy```, ma è un modo comodo per iterare contemporaneamente su due o più array:"
   ]
  },
  {
   "cell_type": "code",
   "execution_count": 71,
   "metadata": {},
   "outputs": [
    {
     "name": "stdout",
     "output_type": "stream",
     "text": [
      "<zip object at 0x7f880cd2a408>\n",
      "1 5\n",
      "2 6\n",
      "3 7\n",
      "4 8\n"
     ]
    }
   ],
   "source": [
    "v = zip(v1, v2)\n",
    "print(v)\n",
    "for a, b in zip(v1, v2):\n",
    "    print(a, b)"
   ]
  },
  {
   "cell_type": "markdown",
   "metadata": {},
   "source": [
    "# Input da file\n",
    "I numeri sono di default interpretati come float"
   ]
  },
  {
   "cell_type": "code",
   "execution_count": 73,
   "metadata": {},
   "outputs": [
    {
     "name": "stdout",
     "output_type": "stream",
     "text": [
      "[[1. 2.]\n",
      " [3. 4.]\n",
      " [5. 6.]\n",
      " [7. 8.]]\n",
      "[[1 2]\n",
      " [3 4]\n",
      " [5 6]\n",
      " [7 8]]\n"
     ]
    }
   ],
   "source": [
    "m = np.genfromtxt('data/np-data.txt', delimiter=',')\n",
    "print(m)\n",
    "m = m.astype('int32')\n",
    "print(m)"
   ]
  },
  {
   "cell_type": "markdown",
   "metadata": {},
   "source": [
    "# Condizioni booleane"
   ]
  },
  {
   "cell_type": "code",
   "execution_count": 74,
   "metadata": {},
   "outputs": [
    {
     "data": {
      "text/plain": [
       "array([[False, False],\n",
       "       [False,  True],\n",
       "       [ True,  True],\n",
       "       [ True,  True]])"
      ]
     },
     "execution_count": 74,
     "metadata": {},
     "output_type": "execute_result"
    }
   ],
   "source": [
    "(m > 3)"
   ]
  },
  {
   "cell_type": "code",
   "execution_count": 78,
   "metadata": {},
   "outputs": [
    {
     "data": {
      "text/plain": [
       "array([[False, False],\n",
       "       [False,  True],\n",
       "       [ True,  True],\n",
       "       [False, False]])"
      ]
     },
     "execution_count": 78,
     "metadata": {},
     "output_type": "execute_result"
    }
   ],
   "source": [
    "((m > 3) & (m < 7))"
   ]
  },
  {
   "cell_type": "markdown",
   "metadata": {},
   "source": [
    "Selezione degli elementi secondo una condizione"
   ]
  },
  {
   "cell_type": "code",
   "execution_count": 81,
   "metadata": {},
   "outputs": [
    {
     "name": "stdout",
     "output_type": "stream",
     "text": [
      "[0.5308 0.9486 0.3731 0.7652 0.6983 0.3242 0.3367 0.2142 0.7546 0.6106]\n",
      "[ True  True False  True  True False False False  True  True]\n",
      "[0.5308 0.9486 0.7652 0.6983 0.7546 0.6106]\n"
     ]
    }
   ],
   "source": [
    "x = np.random.rand(10)\n",
    "print(x)\n",
    "print(x>0.5)\n",
    "x1 = x[x>0.5]\n",
    "print(x1)"
   ]
  },
  {
   "cell_type": "code",
   "execution_count": null,
   "metadata": {},
   "outputs": [],
   "source": []
  }
 ],
 "metadata": {
  "kernelspec": {
   "display_name": "Python 3",
   "language": "python",
   "name": "python3"
  },
  "language_info": {
   "codemirror_mode": {
    "name": "ipython",
    "version": 3
   },
   "file_extension": ".py",
   "mimetype": "text/x-python",
   "name": "python",
   "nbconvert_exporter": "python",
   "pygments_lexer": "ipython3",
   "version": "3.7.3"
  }
 },
 "nbformat": 4,
 "nbformat_minor": 4
}
